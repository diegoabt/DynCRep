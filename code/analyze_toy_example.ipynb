{
 "cells": [
  {
   "cell_type": "markdown",
   "metadata": {},
   "source": [
    "# check the inference code"
   ]
  },
  {
   "cell_type": "code",
   "execution_count": 2,
   "metadata": {},
   "outputs": [],
   "source": [
    "%load_ext autoreload\n",
    "%autoreload 2"
   ]
  },
  {
   "cell_type": "code",
   "execution_count": 159,
   "metadata": {},
   "outputs": [],
   "source": [
    "import numpy as np\n",
    "import pandas as pd\n",
    "\n",
    "import tools as tl\n",
    "import CRepDyn_w_STATIC as creps\n",
    "import CRepDyn_w_DYN as crepd\n",
    "\n",
    "import matplotlib.pyplot as plt\n",
    "import networkx as nx\n",
    "import importlib\n",
    "import sktensor as skt\n",
    "from sklearn import metrics\n",
    "import cv_functions as cvfun\n",
    "import time_glob as gl\n",
    "\n",
    "%matplotlib inline"
   ]
  },
  {
   "cell_type": "code",
   "execution_count": 7,
   "metadata": {},
   "outputs": [],
   "source": [
    "cmap = 'PuBuGn'"
   ]
  },
  {
   "cell_type": "code",
   "execution_count": 8,
   "metadata": {},
   "outputs": [],
   "source": [
    "def flt(x,d=3):\n",
    "    return round(x, d)"
   ]
  },
  {
   "cell_type": "code",
   "execution_count": 1084,
   "metadata": {},
   "outputs": [],
   "source": [
    "def calculate_AUC(pred,data0,mask=None):\n",
    "    # M = expected_Aija(U,V,W)+(eta*B[0,:,:].T)[np.newaxis,:,:]\n",
    "    # M = expected_Aija(U,V,W)+eta*transpose_ij(B) # conditional expectation (knowing A_ji)\n",
    "    data = (data0>0).astype('int')\n",
    "    if mask is None:\n",
    "        fpr, tpr, thresholds = metrics.roc_curve(data.flatten(), pred.flatten())\n",
    "    else:\n",
    "        fpr, tpr, thresholds = metrics.roc_curve(data[mask>0], pred[mask>0])\n",
    "\n",
    "    return metrics.auc(fpr, tpr)\n",
    "\n",
    "def expected_Aija(U,V,W):\n",
    "    if W.ndim==1:\n",
    "        M=np.einsum('ik,jk->ijk',U,V)\n",
    "        M=np.einsum('ijk,k->ij',M,W)\n",
    "    else:    \n",
    "        M=np.einsum('ik,jq->ijkq',U,V)\n",
    "        M=np.einsum('ijkq,kq->ij',M,W)\n",
    "    return M\n",
    "\n",
    "def extract_overlapping_membership(i, cm, U, threshold=0.01):\n",
    "    groups = np.where(U[i] > threshold)[0]\n",
    "    wedge_sizes = U[i][groups]\n",
    "    wedge_colors = [cm(c) for c in groups]\n",
    "    return wedge_sizes, wedge_colors"
   ]
  },
  {
   "cell_type": "code",
   "execution_count": 11,
   "metadata": {},
   "outputs": [],
   "source": [
    "# %matplotlib notebook"
   ]
  },
  {
   "cell_type": "code",
   "execution_count": 1978,
   "metadata": {},
   "outputs": [],
   "source": [
    "dataset = 'toy_example'\n",
    "infolder = '../data/input/toy_example/'\n",
    "end_file = '.dat'"
   ]
  },
  {
   "cell_type": "code",
   "execution_count": 1979,
   "metadata": {},
   "outputs": [
    {
     "data": {
      "text/html": [
       "<div>\n",
       "<style scoped>\n",
       "    .dataframe tbody tr th:only-of-type {\n",
       "        vertical-align: middle;\n",
       "    }\n",
       "\n",
       "    .dataframe tbody tr th {\n",
       "        vertical-align: top;\n",
       "    }\n",
       "\n",
       "    .dataframe thead th {\n",
       "        text-align: right;\n",
       "    }\n",
       "</style>\n",
       "<table border=\"1\" class=\"dataframe\">\n",
       "  <thead>\n",
       "    <tr style=\"text-align: right;\">\n",
       "      <th></th>\n",
       "      <th>source</th>\n",
       "      <th>target</th>\n",
       "      <th>weight_t0</th>\n",
       "      <th>weight_t1</th>\n",
       "      <th>weight_t2</th>\n",
       "      <th>weight_t3</th>\n",
       "      <th>weight_t8</th>\n",
       "      <th>weight_t9</th>\n",
       "      <th>weight_t10</th>\n",
       "      <th>weight_t11</th>\n",
       "    </tr>\n",
       "  </thead>\n",
       "  <tbody>\n",
       "    <tr>\n",
       "      <th>0</th>\n",
       "      <td>2</td>\n",
       "      <td>3</td>\n",
       "      <td>1</td>\n",
       "      <td>1</td>\n",
       "      <td>1</td>\n",
       "      <td>1</td>\n",
       "      <td>1</td>\n",
       "      <td>1</td>\n",
       "      <td>1</td>\n",
       "      <td>1</td>\n",
       "    </tr>\n",
       "    <tr>\n",
       "      <th>1</th>\n",
       "      <td>3</td>\n",
       "      <td>2</td>\n",
       "      <td>1</td>\n",
       "      <td>1</td>\n",
       "      <td>1</td>\n",
       "      <td>1</td>\n",
       "      <td>1</td>\n",
       "      <td>1</td>\n",
       "      <td>1</td>\n",
       "      <td>1</td>\n",
       "    </tr>\n",
       "    <tr>\n",
       "      <th>2</th>\n",
       "      <td>4</td>\n",
       "      <td>5</td>\n",
       "      <td>1</td>\n",
       "      <td>1</td>\n",
       "      <td>1</td>\n",
       "      <td>1</td>\n",
       "      <td>1</td>\n",
       "      <td>1</td>\n",
       "      <td>1</td>\n",
       "      <td>1</td>\n",
       "    </tr>\n",
       "    <tr>\n",
       "      <th>3</th>\n",
       "      <td>5</td>\n",
       "      <td>4</td>\n",
       "      <td>1</td>\n",
       "      <td>1</td>\n",
       "      <td>1</td>\n",
       "      <td>1</td>\n",
       "      <td>1</td>\n",
       "      <td>1</td>\n",
       "      <td>1</td>\n",
       "      <td>1</td>\n",
       "    </tr>\n",
       "    <tr>\n",
       "      <th>4</th>\n",
       "      <td>4</td>\n",
       "      <td>1</td>\n",
       "      <td>1</td>\n",
       "      <td>1</td>\n",
       "      <td>1</td>\n",
       "      <td>1</td>\n",
       "      <td>1</td>\n",
       "      <td>1</td>\n",
       "      <td>1</td>\n",
       "      <td>1</td>\n",
       "    </tr>\n",
       "    <tr>\n",
       "      <th>5</th>\n",
       "      <td>1</td>\n",
       "      <td>4</td>\n",
       "      <td>1</td>\n",
       "      <td>1</td>\n",
       "      <td>1</td>\n",
       "      <td>1</td>\n",
       "      <td>1</td>\n",
       "      <td>1</td>\n",
       "      <td>1</td>\n",
       "      <td>1</td>\n",
       "    </tr>\n",
       "    <tr>\n",
       "      <th>6</th>\n",
       "      <td>2</td>\n",
       "      <td>1</td>\n",
       "      <td>1</td>\n",
       "      <td>1</td>\n",
       "      <td>1</td>\n",
       "      <td>1</td>\n",
       "      <td>0</td>\n",
       "      <td>0</td>\n",
       "      <td>0</td>\n",
       "      <td>0</td>\n",
       "    </tr>\n",
       "    <tr>\n",
       "      <th>7</th>\n",
       "      <td>1</td>\n",
       "      <td>2</td>\n",
       "      <td>1</td>\n",
       "      <td>1</td>\n",
       "      <td>1</td>\n",
       "      <td>1</td>\n",
       "      <td>0</td>\n",
       "      <td>0</td>\n",
       "      <td>0</td>\n",
       "      <td>0</td>\n",
       "    </tr>\n",
       "    <tr>\n",
       "      <th>8</th>\n",
       "      <td>1</td>\n",
       "      <td>3</td>\n",
       "      <td>1</td>\n",
       "      <td>1</td>\n",
       "      <td>1</td>\n",
       "      <td>1</td>\n",
       "      <td>0</td>\n",
       "      <td>0</td>\n",
       "      <td>0</td>\n",
       "      <td>0</td>\n",
       "    </tr>\n",
       "    <tr>\n",
       "      <th>9</th>\n",
       "      <td>3</td>\n",
       "      <td>1</td>\n",
       "      <td>1</td>\n",
       "      <td>1</td>\n",
       "      <td>1</td>\n",
       "      <td>1</td>\n",
       "      <td>0</td>\n",
       "      <td>0</td>\n",
       "      <td>0</td>\n",
       "      <td>0</td>\n",
       "    </tr>\n",
       "    <tr>\n",
       "      <th>10</th>\n",
       "      <td>4</td>\n",
       "      <td>6</td>\n",
       "      <td>1</td>\n",
       "      <td>1</td>\n",
       "      <td>1</td>\n",
       "      <td>1</td>\n",
       "      <td>0</td>\n",
       "      <td>0</td>\n",
       "      <td>0</td>\n",
       "      <td>0</td>\n",
       "    </tr>\n",
       "    <tr>\n",
       "      <th>11</th>\n",
       "      <td>6</td>\n",
       "      <td>4</td>\n",
       "      <td>1</td>\n",
       "      <td>1</td>\n",
       "      <td>1</td>\n",
       "      <td>1</td>\n",
       "      <td>0</td>\n",
       "      <td>0</td>\n",
       "      <td>0</td>\n",
       "      <td>0</td>\n",
       "    </tr>\n",
       "    <tr>\n",
       "      <th>12</th>\n",
       "      <td>6</td>\n",
       "      <td>5</td>\n",
       "      <td>1</td>\n",
       "      <td>1</td>\n",
       "      <td>1</td>\n",
       "      <td>1</td>\n",
       "      <td>0</td>\n",
       "      <td>0</td>\n",
       "      <td>0</td>\n",
       "      <td>0</td>\n",
       "    </tr>\n",
       "    <tr>\n",
       "      <th>13</th>\n",
       "      <td>5</td>\n",
       "      <td>6</td>\n",
       "      <td>1</td>\n",
       "      <td>1</td>\n",
       "      <td>1</td>\n",
       "      <td>1</td>\n",
       "      <td>0</td>\n",
       "      <td>0</td>\n",
       "      <td>0</td>\n",
       "      <td>0</td>\n",
       "    </tr>\n",
       "    <tr>\n",
       "      <th>14</th>\n",
       "      <td>6</td>\n",
       "      <td>3</td>\n",
       "      <td>0</td>\n",
       "      <td>0</td>\n",
       "      <td>0</td>\n",
       "      <td>0</td>\n",
       "      <td>1</td>\n",
       "      <td>1</td>\n",
       "      <td>1</td>\n",
       "      <td>1</td>\n",
       "    </tr>\n",
       "    <tr>\n",
       "      <th>15</th>\n",
       "      <td>3</td>\n",
       "      <td>6</td>\n",
       "      <td>0</td>\n",
       "      <td>0</td>\n",
       "      <td>0</td>\n",
       "      <td>0</td>\n",
       "      <td>1</td>\n",
       "      <td>1</td>\n",
       "      <td>1</td>\n",
       "      <td>1</td>\n",
       "    </tr>\n",
       "    <tr>\n",
       "      <th>16</th>\n",
       "      <td>6</td>\n",
       "      <td>2</td>\n",
       "      <td>0</td>\n",
       "      <td>0</td>\n",
       "      <td>0</td>\n",
       "      <td>0</td>\n",
       "      <td>1</td>\n",
       "      <td>1</td>\n",
       "      <td>1</td>\n",
       "      <td>1</td>\n",
       "    </tr>\n",
       "    <tr>\n",
       "      <th>17</th>\n",
       "      <td>2</td>\n",
       "      <td>6</td>\n",
       "      <td>0</td>\n",
       "      <td>0</td>\n",
       "      <td>0</td>\n",
       "      <td>0</td>\n",
       "      <td>1</td>\n",
       "      <td>1</td>\n",
       "      <td>1</td>\n",
       "      <td>1</td>\n",
       "    </tr>\n",
       "    <tr>\n",
       "      <th>18</th>\n",
       "      <td>1</td>\n",
       "      <td>5</td>\n",
       "      <td>0</td>\n",
       "      <td>0</td>\n",
       "      <td>0</td>\n",
       "      <td>0</td>\n",
       "      <td>1</td>\n",
       "      <td>1</td>\n",
       "      <td>1</td>\n",
       "      <td>1</td>\n",
       "    </tr>\n",
       "    <tr>\n",
       "      <th>19</th>\n",
       "      <td>5</td>\n",
       "      <td>1</td>\n",
       "      <td>0</td>\n",
       "      <td>0</td>\n",
       "      <td>0</td>\n",
       "      <td>0</td>\n",
       "      <td>1</td>\n",
       "      <td>1</td>\n",
       "      <td>1</td>\n",
       "      <td>1</td>\n",
       "    </tr>\n",
       "    <tr>\n",
       "      <th>20</th>\n",
       "      <td>6</td>\n",
       "      <td>1</td>\n",
       "      <td>0</td>\n",
       "      <td>0</td>\n",
       "      <td>0</td>\n",
       "      <td>0</td>\n",
       "      <td>1</td>\n",
       "      <td>1</td>\n",
       "      <td>1</td>\n",
       "      <td>1</td>\n",
       "    </tr>\n",
       "    <tr>\n",
       "      <th>21</th>\n",
       "      <td>1</td>\n",
       "      <td>6</td>\n",
       "      <td>0</td>\n",
       "      <td>0</td>\n",
       "      <td>0</td>\n",
       "      <td>0</td>\n",
       "      <td>1</td>\n",
       "      <td>1</td>\n",
       "      <td>1</td>\n",
       "      <td>1</td>\n",
       "    </tr>\n",
       "  </tbody>\n",
       "</table>\n",
       "</div>"
      ],
      "text/plain": [
       "    source  target  weight_t0  weight_t1  weight_t2  weight_t3  weight_t8  \\\n",
       "0        2       3          1          1          1          1          1   \n",
       "1        3       2          1          1          1          1          1   \n",
       "2        4       5          1          1          1          1          1   \n",
       "3        5       4          1          1          1          1          1   \n",
       "4        4       1          1          1          1          1          1   \n",
       "5        1       4          1          1          1          1          1   \n",
       "6        2       1          1          1          1          1          0   \n",
       "7        1       2          1          1          1          1          0   \n",
       "8        1       3          1          1          1          1          0   \n",
       "9        3       1          1          1          1          1          0   \n",
       "10       4       6          1          1          1          1          0   \n",
       "11       6       4          1          1          1          1          0   \n",
       "12       6       5          1          1          1          1          0   \n",
       "13       5       6          1          1          1          1          0   \n",
       "14       6       3          0          0          0          0          1   \n",
       "15       3       6          0          0          0          0          1   \n",
       "16       6       2          0          0          0          0          1   \n",
       "17       2       6          0          0          0          0          1   \n",
       "18       1       5          0          0          0          0          1   \n",
       "19       5       1          0          0          0          0          1   \n",
       "20       6       1          0          0          0          0          1   \n",
       "21       1       6          0          0          0          0          1   \n",
       "\n",
       "    weight_t9  weight_t10  weight_t11  \n",
       "0           1           1           1  \n",
       "1           1           1           1  \n",
       "2           1           1           1  \n",
       "3           1           1           1  \n",
       "4           1           1           1  \n",
       "5           1           1           1  \n",
       "6           0           0           0  \n",
       "7           0           0           0  \n",
       "8           0           0           0  \n",
       "9           0           0           0  \n",
       "10          0           0           0  \n",
       "11          0           0           0  \n",
       "12          0           0           0  \n",
       "13          0           0           0  \n",
       "14          1           1           1  \n",
       "15          1           1           1  \n",
       "16          1           1           1  \n",
       "17          1           1           1  \n",
       "18          1           1           1  \n",
       "19          1           1           1  \n",
       "20          1           1           1  \n",
       "21          1           1           1  "
      ]
     },
     "execution_count": 1979,
     "metadata": {},
     "output_type": "execute_result"
    }
   ],
   "source": [
    "network = infolder + dataset + end_file\n",
    "df = pd.read_csv(network,header=0,sep='\\s+')\n",
    "w0 = np.array(df['weight_t0'])\n",
    "w1 = np.array(df['weight_t1'])\n",
    "\n",
    "T = 4\n",
    "for t in range(1,T):\n",
    "    df['weight_t'+str(t)] = w0\n",
    "for t in range(T,2*T):\n",
    "    df['weight_t'+str(t+T)] = w1\n",
    "    \n",
    "\n",
    "df"
   ]
  },
  {
   "cell_type": "markdown",
   "metadata": {},
   "source": [
    "Transpose "
   ]
  },
  {
   "cell_type": "code",
   "execution_count": 1980,
   "metadata": {},
   "outputs": [],
   "source": [
    "# network = infolder + dataset + end_file\n",
    "# df = pd.read_csv(network,header=0,sep='\\s+')\n",
    "# w0 = np.array(df['weight_t0'])\n",
    "# w1 = np.array(df['weight_t1'])\n",
    "# df['weight_t1'] = w0\n",
    "# df['weight_t0'] = w1"
   ]
  },
  {
   "cell_type": "code",
   "execution_count": 1981,
   "metadata": {},
   "outputs": [
    {
     "data": {
      "text/plain": [
       "'../data/input/toy_example/toy_example2.dat'"
      ]
     },
     "execution_count": 1981,
     "metadata": {},
     "output_type": "execute_result"
    }
   ],
   "source": [
    "df.to_csv(infolder+dataset+'2.dat',index=False,sep=' ')\n",
    "infolder+dataset+'2.dat'"
   ]
  },
  {
   "cell_type": "code",
   "execution_count": 2260,
   "metadata": {},
   "outputs": [
    {
     "name": "stdout",
     "output_type": "stream",
     "text": [
      "   source  target  weight_t0  weight_t1\n",
      "0       2       3          1          1\n",
      "1       3       2          1          1\n",
      "2       4       5          1          1\n",
      "3       5       4          1          1\n",
      "4       4       1          1          1\n",
      "../data/input/toy_example/toy_example.dat shape: (22, 4)\n",
      "number edges: 14\n",
      "Number of nodes = 6\n",
      "Number of layers = 2\n",
      "Number of edges and average degree in each layer:\n",
      "E[0] = 14 - <k> = 4.667\n",
      "M[0] = 14 - <k_weighted> = 4.667\n",
      "Reciprocity (networkX) = 1.0\n",
      "Reciprocity (intended as the proportion of bi-directional edges over the unordered pairs) = 1.0\n",
      "Reciprocity (considering the weights of the edges) = 1.0\n",
      "E[1] = 14 - <k> = 4.667\n",
      "M[1] = 14 - <k_weighted> = 4.667\n",
      "Reciprocity (networkX) = 1.0\n",
      "Reciprocity (intended as the proportion of bi-directional edges over the unordered pairs) = 1.0\n",
      "Reciprocity (considering the weights of the edges) = 1.0\n"
     ]
    }
   ],
   "source": [
    "dataset = 'toy_example'\n",
    "network = infolder + dataset + end_file\n",
    "A, B, B_T, data_T_vals = tl.import_data(network,header=0)\n",
    "nodes = A[0].nodes()\n",
    "pos = nx.spring_layout(A[0]) \n",
    "N = len(nodes)\n"
   ]
  },
  {
   "cell_type": "markdown",
   "metadata": {},
   "source": [
    "### Initializing near ground truth"
   ]
  },
  {
   "cell_type": "code",
   "execution_count": 2261,
   "metadata": {},
   "outputs": [],
   "source": [
    "gl.timer.verbose = False\n",
    "gl.timer.color = 'green'\n",
    "gl.timer.print_details = False\n",
    "gl.timer.print_sub = True\n",
    "gl.printer.verboseness = False\n",
    "gl.parallelize = False"
   ]
  },
  {
   "cell_type": "code",
   "execution_count": 2262,
   "metadata": {},
   "outputs": [],
   "source": [
    "beta0 = 0.2\n",
    "fix_beta = False\n",
    "constraintU = True\n",
    "bg = 2.\n",
    "ag = 1.9\n",
    "flag_data_T = 0\n",
    "constrained = False\n",
    "N_real = 10\n",
    "assortative = False\n",
    "in_parameters = output_parameters\n",
    "init = 0\n",
    "K = 2\n",
    "seed = 0"
   ]
  },
  {
   "cell_type": "code",
   "execution_count": 2263,
   "metadata": {},
   "outputs": [
    {
     "data": {
      "text/plain": [
       "array([[0.7, 0.3],\n",
       "       [0.9, 0.1],\n",
       "       [0.9, 0.1],\n",
       "       [0.1, 0.9],\n",
       "       [0.1, 0.9],\n",
       "       [0.3, 0.7]])"
      ]
     },
     "execution_count": 2263,
     "metadata": {},
     "output_type": "execute_result"
    }
   ],
   "source": [
    "lambda_k_GT = np.zeros((N,K))\n",
    "lambda_k_GT[0] = [0.7,0.3]\n",
    "lambda_k_GT[1] = lambda_k_GT[2] = [0.9,0.1]\n",
    "lambda_k_GT[4] = lambda_k_GT[3] = [0.1,0.9]\n",
    "lambda_k_GT[5] = [0.3,0.7]\n",
    "bg = 1000 * np.ones((N,K))\n",
    "ag = lambda_k_GT.copy() * bg\n",
    "lambda_k_GT"
   ]
  },
  {
   "cell_type": "code",
   "execution_count": 2264,
   "metadata": {},
   "outputs": [
    {
     "data": {
      "text/plain": [
       "array([[0.7, 0.3],\n",
       "       [0.9, 0.1],\n",
       "       [0.9, 0.1],\n",
       "       [0.1, 0.9],\n",
       "       [0.1, 0.9],\n",
       "       [0.3, 0.7]])"
      ]
     },
     "execution_count": 2264,
     "metadata": {},
     "output_type": "execute_result"
    }
   ],
   "source": [
    "lambda_k_GT"
   ]
  },
  {
   "cell_type": "code",
   "execution_count": 2417,
   "metadata": {},
   "outputs": [],
   "source": [
    "ag = 1.\n",
    "bg = 1."
   ]
  },
  {
   "cell_type": "code",
   "execution_count": 2496,
   "metadata": {
    "scrolled": false
   },
   "outputs": [
    {
     "name": "stdout",
     "output_type": "stream",
     "text": [
      "u, v and w are initialized randomly.\n",
      "Updating realization 0 ... done!\n",
      "Nreal = 0 - Loglikelihood = -12.89095760262012 - iterations = 111 - time = 0.04 seconds\n",
      "u, v and w are initialized randomly.\n",
      "Updating realization 1 ... done!\n",
      "Nreal = 1 - Loglikelihood = -280.5057317772677 - iterations = 81 - time = 0.03 seconds\n",
      "u, v and w are initialized randomly.\n",
      "Updating realization 2 ... done!\n",
      "Nreal = 2 - Loglikelihood = -247.6644008075067 - iterations = 81 - time = 0.04 seconds\n",
      "u, v and w are initialized randomly.\n",
      "Updating realization 3 ... done!\n",
      "Nreal = 3 - Loglikelihood = -53.97439108289119 - iterations = 41 - time = 0.03 seconds\n",
      "u, v and w are initialized randomly.\n",
      "Updating realization 4 ... done!\n",
      "Nreal = 4 - Loglikelihood = -380844.37399412814 - iterations = 81 - time = 0.03 seconds\n",
      "u, v and w are initialized randomly.\n",
      "Updating realization 5 ... done!\n",
      "Nreal = 5 - Loglikelihood = -240.01685052415445 - iterations = 81 - time = 0.03 seconds\n",
      "u, v and w are initialized randomly.\n",
      "Updating realization 6 ... done!\n",
      "Nreal = 6 - Loglikelihood = -274.17712489069686 - iterations = 81 - time = 0.05 seconds\n",
      "u, v and w are initialized randomly.\n",
      "Updating realization 7 ... done!\n",
      "Nreal = 7 - Loglikelihood = -271.33163266165684 - iterations = 81 - time = 0.03 seconds\n",
      "u, v and w are initialized randomly.\n",
      "Updating realization 8 ... done!\n",
      "Nreal = 8 - Loglikelihood = -12.89095760262012 - iterations = 111 - time = 0.04 seconds\n",
      "u, v and w are initialized randomly.\n",
      "Updating realization 9 ... done!\n",
      "Nreal = 9 - Loglikelihood = -1526135.9520205748 - iterations = 81 - time = 0.03 seconds\n"
     ]
    },
    {
     "data": {
      "image/png": "[encoded data removed]",
      "text/plain": [
       "<Figure size 504x504 with 1 Axes>"
      ]
     },
     "metadata": {
      "needs_background": "light"
     },
     "output_type": "display_data"
    },
    {
     "name": "stdout",
     "output_type": "stream",
     "text": [
      "CPU times: user 470 ms, sys: 46 ms, total: 516 ms\n",
      "Wall time: 484 ms\n"
     ]
    }
   ],
   "source": [
    "%%time\n",
    "T = 20\n",
    "if T < 0: \n",
    "    beta0 = 0.\n",
    "    fix_beta = True\n",
    "algo = 0 # 0: static, 1: w_dyn\n",
    "if algo == 1: N_real = 1\n",
    "N_real=10\n",
    "seed = 1\n",
    "if algo == 1:\n",
    "    model = crepd.CRepDyn_w_temp(rseed = seed ,plot_loglik=True,verbose = 1,N_real=N_real,beta0=beta0,undirected=True,\n",
    "                         flag_data_T=flag_data_T,fix_beta=fix_beta,initialization=init,constraintU = constraintU,\n",
    "                            max_iter = 500,eta0=0.0,in_parameters= in_parameters,constrained=constrained,ag=ag,bg=bg,fix_eta=False, assortative=assortative)\n",
    "elif algo == 0:\n",
    "    model = creps.CRepDyn(rseed = seed ,plot_loglik=True,verbose = 1,N_real=N_real,beta0=beta0,undirected=True,\n",
    "                         flag_data_T=flag_data_T,fix_beta=fix_beta,initialization=init,\n",
    "                            max_iter = 500,eta0=0.0,in_parameters= in_parameters,constrained=constrained,ag=ag,bg=bg,fix_eta=False, assortative=assortative)\n",
    "    \n",
    "u, v, w,eta,beta, Loglikelihood = model.fit(data=B,T=T, nodes=nodes,K = K)\n",
    "# out_dict = dict(zip([ 'u', 'v', 'w','eta','beta', 'Loglikelihood'], out))\n"
   ]
  },
  {
   "cell_type": "code",
   "execution_count": 2497,
   "metadata": {},
   "outputs": [
    {
     "data": {
      "text/plain": [
       "array([[[0.00000000e+00, 0.00000000e+00],\n",
       "        [0.00000000e+00, 3.88977143e-10]]])"
      ]
     },
     "execution_count": 2497,
     "metadata": {},
     "output_type": "execute_result"
    }
   ],
   "source": [
    "w"
   ]
  },
  {
   "cell_type": "code",
   "execution_count": 2498,
   "metadata": {},
   "outputs": [
    {
     "data": {
      "text/plain": [
       "array([[0., 1.],\n",
       "       [0., 1.],\n",
       "       [0., 1.],\n",
       "       [0., 1.],\n",
       "       [0., 1.],\n",
       "       [0., 1.]])"
      ]
     },
     "execution_count": 2498,
     "metadata": {},
     "output_type": "execute_result"
    }
   ],
   "source": [
    "u_norm = tl.normalize_nonzero_membership(u)\n",
    "u_norm"
   ]
  },
  {
   "cell_type": "code",
   "execution_count": 2499,
   "metadata": {},
   "outputs": [
    {
     "data": {
      "text/plain": [
       "array([[       0.        , 10832568.37910088],\n",
       "       [       0.        ,  6499541.02746053],\n",
       "       [       0.        ,  6499541.02746053],\n",
       "       [       0.        ,  6499541.02746053],\n",
       "       [       0.        ,  6499541.02746053],\n",
       "       [       0.        , 10832568.37910088]])"
      ]
     },
     "execution_count": 2499,
     "metadata": {},
     "output_type": "execute_result"
    }
   ],
   "source": [
    "u"
   ]
  },
  {
   "cell_type": "code",
   "execution_count": 2500,
   "metadata": {},
   "outputs": [
    {
     "data": {
      "text/plain": [
       "array(0.72727273)"
      ]
     },
     "execution_count": 2500,
     "metadata": {},
     "output_type": "execute_result"
    }
   ],
   "source": [
    "beta"
   ]
  },
  {
   "cell_type": "code",
   "execution_count": 2501,
   "metadata": {},
   "outputs": [],
   "source": [
    "G0 = nx.Graph(A[0])\n",
    "G1 = nx.Graph(A[-1])\n",
    "pos0 =  nx.spring_layout(G0)\n",
    "pos1 =  nx.spring_layout(G1)"
   ]
  },
  {
   "cell_type": "code",
   "execution_count": 2502,
   "metadata": {},
   "outputs": [
    {
     "data": {
      "image/png": "[encoded data removed]",
      "text/plain": [
       "<Figure size 864x432 with 2 Axes>"
      ]
     },
     "metadata": {},
     "output_type": "display_data"
    }
   ],
   "source": [
    "radius = 0.03\n",
    "plt.figure(figsize=(12,6))\n",
    "    \n",
    "dg = 3\n",
    "\n",
    "plt.subplot(1, 2, 1)\n",
    "ax = plt.gca()\n",
    "nx.draw_networkx_edges(G0, pos0,arrows=False,edge_color='lightgrey',alpha =0.5)\n",
    "nx.draw_networkx_labels(G0, pos0,font_color='blue',font_size =12)\n",
    "for nid,n in enumerate(list(G0.nodes())):\n",
    "    degree_n = G0.degree(n)\n",
    "    degree_n = dg\n",
    "    wedge_sizes,wedge_colors = extract_overlapping_membership(nid,cm,u_norm,threshold=0.001)\n",
    "    if len(wedge_sizes)>0:\n",
    "        pie,t = plt.pie(wedge_sizes, center=pos0[n], colors = wedge_colors,radius=(min(10,degree_n))*radius,wedgeprops=wedgeprops,normalize=False)\n",
    "#                 [p.set_zorder(-1) for p in pie]\n",
    "ax.axis(\"equal\")\n",
    "plt.title('t=0')\n",
    "\n",
    "plt.subplot(1, 2, 2)\n",
    "ax = plt.gca()\n",
    "nx.draw_networkx_edges(G1, pos1,arrows=False,edge_color='lightgrey',alpha =0.5)\n",
    "nx.draw_networkx_labels(G1, pos1,font_color='blue',font_size =12)\n",
    "for nid,n in enumerate(list(G1.nodes())):\n",
    "    degree_n = G1.degree(n)    \n",
    "    degree_n = dg\n",
    "    wedge_sizes,wedge_colors = extract_overlapping_membership(nid,cm,u_norm,threshold=0.001)\n",
    "    if len(wedge_sizes)>0:\n",
    "        pie,t = plt.pie(wedge_sizes, center=pos1[n], colors = wedge_colors,radius=(min(10,degree_n))*radius,wedgeprops=wedgeprops,normalize=False)\n",
    "#                 [p.set_zorder(-1) for p in pie]\n",
    "ax.axis(\"equal\")\n",
    "plt.title('t=1')\n",
    "# plt.savefig('../figures/SBM_overlapping.png',dpi=100,bbox_inches = 'tight',\n",
    "#     pad_inches = 0)\n",
    "plt.show()\n",
    "\n"
   ]
  },
  {
   "cell_type": "markdown",
   "metadata": {},
   "source": [
    "### Aggregating time steps"
   ]
  },
  {
   "cell_type": "code",
   "execution_count": null,
   "metadata": {},
   "outputs": [],
   "source": [
    "dataset = 'toy_example'\n",
    "network = infolder + dataset + end_file"
   ]
  },
  {
   "cell_type": "code",
   "execution_count": 2230,
   "metadata": {},
   "outputs": [
    {
     "name": "stderr",
     "output_type": "stream",
     "text": [
      "<ipython-input-2230-6cc169d8383f>:3: SettingWithCopyWarning: \n",
      "A value is trying to be set on a copy of a slice from a DataFrame.\n",
      "Try using .loc[row_indexer,col_indexer] = value instead\n",
      "\n",
      "See the caveats in the documentation: https://pandas.pydata.org/pandas-docs/stable/user_guide/indexing.html#returning-a-view-versus-a-copy\n",
      "  df1['weight_t0'] = np.sum(df.iloc[:,2:].values,axis=1)\n"
     ]
    },
    {
     "data": {
      "text/html": [
       "<div>\n",
       "<style scoped>\n",
       "    .dataframe tbody tr th:only-of-type {\n",
       "        vertical-align: middle;\n",
       "    }\n",
       "\n",
       "    .dataframe tbody tr th {\n",
       "        vertical-align: top;\n",
       "    }\n",
       "\n",
       "    .dataframe thead th {\n",
       "        text-align: right;\n",
       "    }\n",
       "</style>\n",
       "<table border=\"1\" class=\"dataframe\">\n",
       "  <thead>\n",
       "    <tr style=\"text-align: right;\">\n",
       "      <th></th>\n",
       "      <th>source</th>\n",
       "      <th>target</th>\n",
       "      <th>weight_t0</th>\n",
       "    </tr>\n",
       "  </thead>\n",
       "  <tbody>\n",
       "    <tr>\n",
       "      <th>0</th>\n",
       "      <td>2</td>\n",
       "      <td>3</td>\n",
       "      <td>2</td>\n",
       "    </tr>\n",
       "    <tr>\n",
       "      <th>1</th>\n",
       "      <td>3</td>\n",
       "      <td>2</td>\n",
       "      <td>2</td>\n",
       "    </tr>\n",
       "    <tr>\n",
       "      <th>2</th>\n",
       "      <td>4</td>\n",
       "      <td>5</td>\n",
       "      <td>2</td>\n",
       "    </tr>\n",
       "    <tr>\n",
       "      <th>3</th>\n",
       "      <td>5</td>\n",
       "      <td>4</td>\n",
       "      <td>2</td>\n",
       "    </tr>\n",
       "    <tr>\n",
       "      <th>4</th>\n",
       "      <td>4</td>\n",
       "      <td>1</td>\n",
       "      <td>2</td>\n",
       "    </tr>\n",
       "  </tbody>\n",
       "</table>\n",
       "</div>"
      ],
      "text/plain": [
       "   source  target  weight_t0\n",
       "0       2       3          2\n",
       "1       3       2          2\n",
       "2       4       5          2\n",
       "3       5       4          2\n",
       "4       4       1          2"
      ]
     },
     "execution_count": 2230,
     "metadata": {},
     "output_type": "execute_result"
    }
   ],
   "source": [
    "df = pd.read_csv(network,sep='\\s+')\n",
    "df1 = df[['source','target']]\n",
    "df1['weight_t0'] = np.sum(df.iloc[:,2:].values,axis=1)\n",
    "df1.head()"
   ]
  },
  {
   "cell_type": "code",
   "execution_count": 2232,
   "metadata": {},
   "outputs": [
    {
     "data": {
      "text/plain": [
       "'../data/input/toy_example/toy_example_aggr.dat'"
      ]
     },
     "execution_count": 2232,
     "metadata": {},
     "output_type": "execute_result"
    }
   ],
   "source": [
    "outfile = infolder+dataset+'_aggr'+end_file\n",
    "df1.to_csv(outfile,index=False,sep=' ')\n",
    "outfile"
   ]
  },
  {
   "cell_type": "code",
   "execution_count": 2233,
   "metadata": {},
   "outputs": [
    {
     "name": "stdout",
     "output_type": "stream",
     "text": [
      "   source  target  weight_t0\n",
      "0       2       3          2\n",
      "1       3       2          2\n",
      "2       4       5          2\n",
      "3       5       4          2\n",
      "4       4       1          2\n",
      "../data/input/toy_example/toy_example_aggr.dat shape: (22, 3)\n",
      "number edges: 22\n",
      "Number of nodes = 6\n",
      "Number of layers = 1\n",
      "Number of edges and average degree in each layer:\n",
      "E[0] = 22 - <k> = 7.333\n",
      "M[0] = 22 - <k_weighted> = 7.333\n",
      "Reciprocity (networkX) = 1.0\n",
      "Reciprocity (intended as the proportion of bi-directional edges over the unordered pairs) = 1.0\n",
      "Reciprocity (considering the weights of the edges) = 1.0\n"
     ]
    }
   ],
   "source": [
    "A_aggr, B_aggr, B_T_aggr, data_T_vals_aggr = tl.import_data(outfile,header=0)\n",
    "nodes = A_aggr[0].nodes()\n",
    "pos = nx.spring_layout(A_aggr[0]) \n",
    "N = len(nodes)"
   ]
  },
  {
   "cell_type": "code",
   "execution_count": 2239,
   "metadata": {},
   "outputs": [
    {
     "data": {
      "text/plain": [
       "array([[[0., 1., 1., 1., 1., 1.],\n",
       "        [1., 0., 1., 0., 0., 1.],\n",
       "        [1., 1., 0., 0., 0., 1.],\n",
       "        [1., 0., 0., 0., 1., 1.],\n",
       "        [1., 0., 0., 1., 0., 1.],\n",
       "        [1., 1., 1., 1., 1., 0.]]])"
      ]
     },
     "execution_count": 2239,
     "metadata": {},
     "output_type": "execute_result"
    }
   ],
   "source": [
    "B_aggr"
   ]
  },
  {
   "cell_type": "code",
   "execution_count": 2244,
   "metadata": {},
   "outputs": [
    {
     "data": {
      "text/plain": [
       "(22,)"
      ]
     },
     "execution_count": 2244,
     "metadata": {},
     "output_type": "execute_result"
    }
   ],
   "source": [
    "B_aggr[B_aggr.nonzero()].shape"
   ]
  },
  {
   "cell_type": "code",
   "execution_count": 2248,
   "metadata": {},
   "outputs": [
    {
     "name": "stdout",
     "output_type": "stream",
     "text": [
      "u, v and w are initialized randomly.\n",
      "Updating realization 0 ... done!\n",
      "Nreal = 0 - Loglikelihood = -3912.185523568656 - iterations = 500 - time = 0.16 seconds\n",
      "u, v and w are initialized randomly.\n",
      "Updating realization 1 ... done!\n",
      "Nreal = 1 - Loglikelihood = -3949.378484457564 - iterations = 500 - time = 0.18 seconds\n",
      "u, v and w are initialized randomly.\n",
      "Updating realization 2 ... done!\n",
      "Nreal = 2 - Loglikelihood = -4000.5955667555913 - iterations = 500 - time = 0.16 seconds\n",
      "u, v and w are initialized randomly.\n",
      "Updating realization 3 ... done!\n",
      "Nreal = 3 - Loglikelihood = -3939.895470428019 - iterations = 500 - time = 0.17 seconds\n",
      "u, v and w are initialized randomly.\n",
      "Updating realization 4 ... done!\n",
      "Nreal = 4 - Loglikelihood = -3905.0452731465525 - iterations = 500 - time = 0.15 seconds\n",
      "u, v and w are initialized randomly.\n",
      "Updating realization 5 ... done!\n",
      "Nreal = 5 - Loglikelihood = -4046.2074970631325 - iterations = 500 - time = 0.16 seconds\n",
      "u, v and w are initialized randomly.\n",
      "Updating realization 6 ... done!\n",
      "Nreal = 6 - Loglikelihood = -3987.5543807154904 - iterations = 500 - time = 0.15 seconds\n",
      "u, v and w are initialized randomly.\n",
      "Updating realization 7 ... done!\n",
      "Nreal = 7 - Loglikelihood = -3938.130383087947 - iterations = 500 - time = 0.16 seconds\n",
      "u, v and w are initialized randomly.\n",
      "Updating realization 8 ... done!\n",
      "Nreal = 8 - Loglikelihood = -2130.183284285232 - iterations = 500 - time = 0.16 seconds\n",
      "u, v and w are initialized randomly.\n",
      "Updating realization 9 ... done!\n",
      "Nreal = 9 - Loglikelihood = -2143.2512483850783 - iterations = 500 - time = 0.18 seconds\n"
     ]
    },
    {
     "data": {
      "image/png": "[encoded data removed]",
      "text/plain": [
       "<Figure size 504x504 with 1 Axes>"
      ]
     },
     "metadata": {
      "needs_background": "light"
     },
     "output_type": "display_data"
    },
    {
     "name": "stdout",
     "output_type": "stream",
     "text": [
      "CPU times: user 1.72 s, sys: 91.3 ms, total: 1.82 s\n",
      "Wall time: 1.75 s\n"
     ]
    }
   ],
   "source": [
    "%%time\n",
    "T = 1\n",
    "beta0 = 0.\n",
    "fix_beta = True\n",
    "algo = 0 # 0: static, 1: w_dyn\n",
    "\n",
    "model = creps.CRepDyn(rseed = seed ,plot_loglik=True,verbose = 1,N_real=N_real,beta0=beta0,undirected=True,\n",
    "                     flag_data_T=flag_data_T,fix_beta=fix_beta,initialization=init,\n",
    "                        max_iter = 500,eta0=0.0,in_parameters= in_parameters,constrained=constrained,ag=ag,bg=bg,fix_eta=False, assortative=assortative)\n",
    "    \n",
    "u_aggr, v_aggr, w_aggr,eta_aggr,beta_aggr, Loglikelihood_aggr = model.fit(data=B_aggr,T=T, nodes=nodes,K = K)\n",
    "# out_dict = dict(zip([ 'u', 'v', 'w','eta','beta', 'Loglikelihood'], out))\n"
   ]
  },
  {
   "cell_type": "code",
   "execution_count": 2257,
   "metadata": {},
   "outputs": [
    {
     "data": {
      "text/plain": [
       "array([[[1.37679997e-01, 3.25047350e-10],\n",
       "        [2.64390993e-10, 3.55049457e-01]]])"
      ]
     },
     "execution_count": 2257,
     "metadata": {},
     "output_type": "execute_result"
    }
   ],
   "source": [
    "w"
   ]
  },
  {
   "cell_type": "code",
   "execution_count": 2252,
   "metadata": {},
   "outputs": [
    {
     "data": {
      "text/plain": [
       "array([[[0.10733888, 0.        ],\n",
       "        [0.        , 0.10733888]]])"
      ]
     },
     "execution_count": 2252,
     "metadata": {},
     "output_type": "execute_result"
    }
   ],
   "source": [
    "w_aggr"
   ]
  },
  {
   "cell_type": "code",
   "execution_count": 2249,
   "metadata": {},
   "outputs": [
    {
     "data": {
      "text/plain": [
       "array([[5.00000000e-01, 5.00000000e-01],\n",
       "       [1.00000000e+00, 2.36652272e-87],\n",
       "       [1.00000000e+00, 2.43897305e-87],\n",
       "       [1.21495634e-89, 1.00000000e+00],\n",
       "       [6.11644822e-90, 1.00000000e+00],\n",
       "       [5.00000000e-01, 5.00000000e-01]])"
      ]
     },
     "execution_count": 2249,
     "metadata": {},
     "output_type": "execute_result"
    }
   ],
   "source": [
    "u_norm_aggr = tl.normalize_nonzero_membership(u_aggr)\n",
    "u_norm_aggr"
   ]
  },
  {
   "cell_type": "code",
   "execution_count": 2255,
   "metadata": {},
   "outputs": [],
   "source": [
    "G_aggr = nx.Graph(A_aggr[0])\n",
    "pos_aggr =  nx.spring_layout(G_aggr)\n"
   ]
  },
  {
   "cell_type": "code",
   "execution_count": 2256,
   "metadata": {},
   "outputs": [
    {
     "data": {
      "text/plain": [
       "Text(0.5, 1.0, 't=0')"
      ]
     },
     "execution_count": 2256,
     "metadata": {},
     "output_type": "execute_result"
    },
    {
     "data": {
      "image/png": "[encoded data removed]",
      "text/plain": [
       "<Figure size 864x432 with 1 Axes>"
      ]
     },
     "metadata": {},
     "output_type": "display_data"
    }
   ],
   "source": [
    "radius = 0.03\n",
    "plt.figure(figsize=(12,6))\n",
    "    \n",
    "dg = 3\n",
    "\n",
    "ax = plt.gca()\n",
    "nx.draw_networkx_edges(G_aggr, pos_aggr,arrows=False,edge_color='lightgrey',alpha =0.5)\n",
    "nx.draw_networkx_labels(G_aggr, pos_aggr,font_color='blue',font_size =12)\n",
    "for nid,n in enumerate(list(G_aggr.nodes())):\n",
    "    degree_n = G_aggr.degree(n)\n",
    "    degree_n = dg\n",
    "    wedge_sizes,wedge_colors = extract_overlapping_membership(nid,cm,u_norm_aggr,threshold=0.001)\n",
    "    if len(wedge_sizes)>0:\n",
    "        pie,t = plt.pie(wedge_sizes, center=pos_aggr[n], colors = wedge_colors,radius=(min(10,degree_n))*radius,wedgeprops=wedgeprops,normalize=False)\n",
    "#                 [p.set_zorder(-1) for p in pie]\n",
    "ax.axis(\"equal\")\n",
    "plt.title('t=0')\n",
    "\n"
   ]
  },
  {
   "cell_type": "markdown",
   "metadata": {},
   "source": [
    "### Cosine Similarity"
   ]
  },
  {
   "cell_type": "code",
   "execution_count": 1429,
   "metadata": {},
   "outputs": [
    {
     "ename": "NameError",
     "evalue": "name 'theta' is not defined",
     "output_type": "error",
     "traceback": [
      "\u001b[0;31m---------------------------------------------------------------------------\u001b[0m",
      "\u001b[0;31mNameError\u001b[0m                                 Traceback (most recent call last)",
      "\u001b[0;32m<ipython-input-1429-836c1224470e>\u001b[0m in \u001b[0;36m<module>\u001b[0;34m\u001b[0m\n\u001b[0;32m----> 1\u001b[0;31m \u001b[0mu\u001b[0m\u001b[0;34m,\u001b[0m \u001b[0mcs_u\u001b[0m \u001b[0;34m=\u001b[0m \u001b[0mcvfun\u001b[0m\u001b[0;34m.\u001b[0m\u001b[0mcosine_similarity\u001b[0m\u001b[0;34m(\u001b[0m\u001b[0mu\u001b[0m\u001b[0;34m,\u001b[0m\u001b[0mtheta\u001b[0m\u001b[0;34m[\u001b[0m\u001b[0;34m'u'\u001b[0m\u001b[0;34m]\u001b[0m\u001b[0;34m)\u001b[0m\u001b[0;34m\u001b[0m\u001b[0;34m\u001b[0m\u001b[0m\n\u001b[0m\u001b[1;32m      2\u001b[0m \u001b[0mv\u001b[0m\u001b[0;34m,\u001b[0m \u001b[0mcs_v\u001b[0m \u001b[0;34m=\u001b[0m \u001b[0mcvfun\u001b[0m\u001b[0;34m.\u001b[0m\u001b[0mcosine_similarity\u001b[0m\u001b[0;34m(\u001b[0m\u001b[0mv\u001b[0m\u001b[0;34m,\u001b[0m\u001b[0mtheta\u001b[0m\u001b[0;34m[\u001b[0m\u001b[0;34m'v'\u001b[0m\u001b[0;34m]\u001b[0m\u001b[0;34m)\u001b[0m\u001b[0;34m\u001b[0m\u001b[0;34m\u001b[0m\u001b[0m\n\u001b[1;32m      3\u001b[0m \u001b[0mcs_u\u001b[0m\u001b[0;34m,\u001b[0m\u001b[0mcs_v\u001b[0m\u001b[0;34m\u001b[0m\u001b[0;34m\u001b[0m\u001b[0m\n",
      "\u001b[0;31mNameError\u001b[0m: name 'theta' is not defined"
     ]
    }
   ],
   "source": [
    "u, cs_u = cvfun.cosine_similarity(u,theta['u'])\n",
    "v, cs_v = cvfun.cosine_similarity(v,theta['v'])\n",
    "cs_u,cs_v\n"
   ]
  },
  {
   "cell_type": "markdown",
   "metadata": {},
   "source": [
    "### A vs M"
   ]
  },
  {
   "cell_type": "code",
   "execution_count": 600,
   "metadata": {},
   "outputs": [
    {
     "data": {
      "text/plain": [
       "((6, 2), (6, 2), (4, 2))"
      ]
     },
     "execution_count": 600,
     "metadata": {},
     "output_type": "execute_result"
    }
   ],
   "source": [
    "u.shape,v.shape,w.shape"
   ]
  },
  {
   "cell_type": "code",
   "execution_count": 601,
   "metadata": {},
   "outputs": [
    {
     "data": {
      "text/plain": [
       "[array([[0.55839373, 0.39374943, 0.39374943, 0.51697109, 0.42036045,\n",
       "         0.46015438],\n",
       "        [0.39374943, 0.29310274, 0.29310274, 0.34404455, 0.30410416,\n",
       "         0.35313571],\n",
       "        [0.39374943, 0.29310274, 0.29310274, 0.34404455, 0.30410416,\n",
       "         0.35313571],\n",
       "        [0.51697109, 0.34404455, 0.34404455, 0.50580797, 0.37897906,\n",
       "         0.38800405],\n",
       "        [0.42036045, 0.30410416, 0.30410416, 0.37897906, 0.32027418,\n",
       "         0.36066589],\n",
       "        [0.46015438, 0.35313571, 0.35313571, 0.38800405, 0.36066589,\n",
       "         0.43235534]]),\n",
       " array([[0.14980622, 0.12146505, 0.12146505, 0.11769603, 0.12065109,\n",
       "         0.15281109],\n",
       "        [0.12146505, 0.10556568, 0.10556568, 0.0860383 , 0.10134853,\n",
       "         0.13703339],\n",
       "        [0.12146505, 0.10556568, 0.10556568, 0.0860383 , 0.10134853,\n",
       "         0.13703339],\n",
       "        [0.11769603, 0.0860383 , 0.0860383 , 0.10492563, 0.09011722,\n",
       "         0.10263797],\n",
       "        [0.12065109, 0.10134853, 0.10134853, 0.09011722, 0.09892301,\n",
       "         0.12960534],\n",
       "        [0.15281109, 0.13703339, 0.13703339, 0.10263797, 0.12960534,\n",
       "         0.18023309]]),\n",
       " array([[0.92003879, 0.89846064, 0.89846064, 0.52057642, 0.81685256,\n",
       "         1.22130969],\n",
       "        [0.89846064, 0.90775627, 0.90775627, 0.46808587, 0.81280481,\n",
       "         1.24899101],\n",
       "        [0.89846064, 0.90775627, 0.90775627, 0.46808587, 0.81280481,\n",
       "         1.24899101],\n",
       "        [0.52057642, 0.46808587, 0.46808587, 0.34798354, 0.44214851,\n",
       "         0.61632886],\n",
       "        [0.81685256, 0.81280481, 0.81280481, 0.44214851, 0.73275768,\n",
       "         1.11236096],\n",
       "        [1.22130969, 1.24899101, 1.24899101, 0.61632886, 1.11236096,\n",
       "         1.72570412]]),\n",
       " array([[0.14980622, 0.12146505, 0.12146505, 0.11769603, 0.12065109,\n",
       "         0.15281109],\n",
       "        [0.12146505, 0.10556568, 0.10556568, 0.0860383 , 0.10134853,\n",
       "         0.13703339],\n",
       "        [0.12146505, 0.10556568, 0.10556568, 0.0860383 , 0.10134853,\n",
       "         0.13703339],\n",
       "        [0.11769603, 0.0860383 , 0.0860383 , 0.10492563, 0.09011722,\n",
       "         0.10263797],\n",
       "        [0.12065109, 0.10134853, 0.10134853, 0.09011722, 0.09892301,\n",
       "         0.12960534],\n",
       "        [0.15281109, 0.13703339, 0.13703339, 0.10263797, 0.12960534,\n",
       "         0.18023309]])]"
      ]
     },
     "execution_count": 601,
     "metadata": {},
     "output_type": "execute_result"
    }
   ],
   "source": [
    "M_inf = [expected_Aija(u,v,w[t]) for t in range(w.shape[0])]\n",
    "M_inf\n"
   ]
  },
  {
   "cell_type": "code",
   "execution_count": 602,
   "metadata": {},
   "outputs": [
    {
     "ename": "IndexError",
     "evalue": "index 4 is out of bounds for axis 0 with size 4",
     "output_type": "error",
     "traceback": [
      "\u001b[0;31m---------------------------------------------------------------------------\u001b[0m",
      "\u001b[0;31mIndexError\u001b[0m                                Traceback (most recent call last)",
      "\u001b[0;32m<ipython-input-602-abc66925d83e>\u001b[0m in \u001b[0;36m<module>\u001b[0;34m\u001b[0m\n\u001b[1;32m      4\u001b[0m \u001b[0;32mfor\u001b[0m \u001b[0mt\u001b[0m \u001b[0;32min\u001b[0m \u001b[0mrange\u001b[0m\u001b[0;34m(\u001b[0m\u001b[0mT\u001b[0m\u001b[0;34m)\u001b[0m\u001b[0;34m:\u001b[0m\u001b[0;34m\u001b[0m\u001b[0;34m\u001b[0m\u001b[0m\n\u001b[1;32m      5\u001b[0m     \u001b[0mplt\u001b[0m\u001b[0;34m.\u001b[0m\u001b[0msubplot\u001b[0m\u001b[0;34m(\u001b[0m\u001b[0mT\u001b[0m\u001b[0;34m+\u001b[0m\u001b[0;36m1\u001b[0m\u001b[0;34m,\u001b[0m \u001b[0;36m2\u001b[0m\u001b[0;34m,\u001b[0m \u001b[0mc\u001b[0m\u001b[0;34m+\u001b[0m\u001b[0;36m1\u001b[0m\u001b[0;34m)\u001b[0m\u001b[0;34m\u001b[0m\u001b[0;34m\u001b[0m\u001b[0m\n\u001b[0;32m----> 6\u001b[0;31m     \u001b[0mplt\u001b[0m\u001b[0;34m.\u001b[0m\u001b[0mimshow\u001b[0m\u001b[0;34m(\u001b[0m\u001b[0mB\u001b[0m\u001b[0;34m[\u001b[0m\u001b[0mt\u001b[0m\u001b[0;34m]\u001b[0m\u001b[0;34m[\u001b[0m\u001b[0mnodelist\u001b[0m\u001b[0;34m]\u001b[0m\u001b[0;34m[\u001b[0m\u001b[0;34m:\u001b[0m\u001b[0;34m,\u001b[0m\u001b[0mnodelist\u001b[0m\u001b[0;34m]\u001b[0m\u001b[0;34m,\u001b[0m \u001b[0mcmap\u001b[0m\u001b[0;34m=\u001b[0m\u001b[0;34m'Blues'\u001b[0m\u001b[0;34m,\u001b[0m \u001b[0minterpolation\u001b[0m\u001b[0;34m=\u001b[0m\u001b[0;34m'nearest'\u001b[0m\u001b[0;34m,\u001b[0m\u001b[0mvmin\u001b[0m\u001b[0;34m=\u001b[0m\u001b[0;36m0\u001b[0m\u001b[0;34m,\u001b[0m\u001b[0mvmax\u001b[0m\u001b[0;34m=\u001b[0m\u001b[0;36m1\u001b[0m\u001b[0;34m)\u001b[0m\u001b[0;34m\u001b[0m\u001b[0;34m\u001b[0m\u001b[0m\n\u001b[0m\u001b[1;32m      7\u001b[0m     \u001b[0mplt\u001b[0m\u001b[0;34m.\u001b[0m\u001b[0mcolorbar\u001b[0m\u001b[0;34m(\u001b[0m\u001b[0mfraction\u001b[0m\u001b[0;34m=\u001b[0m\u001b[0;36m0.046\u001b[0m\u001b[0;34m)\u001b[0m\u001b[0;34m\u001b[0m\u001b[0;34m\u001b[0m\u001b[0m\n\u001b[1;32m      8\u001b[0m     \u001b[0;32mif\u001b[0m \u001b[0mc\u001b[0m \u001b[0;34m==\u001b[0m \u001b[0;36m0\u001b[0m\u001b[0;34m:\u001b[0m\u001b[0mplt\u001b[0m\u001b[0;34m.\u001b[0m\u001b[0mtitle\u001b[0m\u001b[0;34m(\u001b[0m\u001b[0;34m'A'\u001b[0m\u001b[0;34m)\u001b[0m\u001b[0;34m\u001b[0m\u001b[0;34m\u001b[0m\u001b[0m\n",
      "\u001b[0;31mIndexError\u001b[0m: index 4 is out of bounds for axis 0 with size 4"
     ]
    },
    {
     "data": {
      "image/png": "[encoded data removed]",
      "text/plain": [
       "<Figure size 864x864 with 17 Axes>"
      ]
     },
     "metadata": {
      "needs_background": "light"
     },
     "output_type": "display_data"
    }
   ],
   "source": [
    "t = 0\n",
    "plt.figure(figsize=(12,12))\n",
    "c = 0\n",
    "for t in range(T):\n",
    "    plt.subplot(T+1, 2, c+1)\n",
    "    plt.imshow(B[t][nodelist][:,nodelist], cmap='Blues', interpolation='nearest',vmin=0,vmax=1)\n",
    "    plt.colorbar(fraction=0.046)\n",
    "    if c == 0:plt.title('A')\n",
    "    plt.subplot(T+1, 2, c+2)\n",
    "    plt.imshow(M_inf[t][nodelist][:,nodelist], cmap='Blues', interpolation='nearest',vmin=0,vmax=1)\n",
    "    plt.colorbar(fraction=0.046)\n",
    "    if c == 0:plt.title('<A>')\n",
    "    c += 2\n",
    "#     print(np.mean(B[t][nodelist][:,nodelist]-M_inf[t][nodelist][:,nodelist]))\n",
    "plt.show()"
   ]
  },
  {
   "cell_type": "markdown",
   "metadata": {},
   "source": [
    "### W"
   ]
  },
  {
   "cell_type": "code",
   "execution_count": null,
   "metadata": {
    "scrolled": false
   },
   "outputs": [],
   "source": [
    "\n",
    "plt.figure(figsize=(12,6))\n",
    "for t in range(T):\n",
    "        plt.subplot(1, 2, t+1)\n",
    "        plt.imshow(w[t], cmap=cmap, interpolation='nearest')\n",
    "#         plt.colorbar(fraction=0.046)\n",
    "        plt.title('<W>')\n",
    "        c += 2\n",
    "\n",
    "plt.show()"
   ]
  },
  {
   "cell_type": "code",
   "execution_count": null,
   "metadata": {},
   "outputs": [],
   "source": []
  },
  {
   "cell_type": "code",
   "execution_count": null,
   "metadata": {},
   "outputs": [],
   "source": []
  },
  {
   "cell_type": "code",
   "execution_count": null,
   "metadata": {},
   "outputs": [],
   "source": []
  },
  {
   "cell_type": "code",
   "execution_count": null,
   "metadata": {},
   "outputs": [],
   "source": []
  },
  {
   "cell_type": "code",
   "execution_count": null,
   "metadata": {},
   "outputs": [],
   "source": []
  }
 ],
 "metadata": {
  "kernelspec": {
   "display_name": "Python 3",
   "language": "python",
   "name": "python3"
  },
  "language_info": {
   "codemirror_mode": {
    "name": "ipython",
    "version": 3
   },
   "file_extension": ".py",
   "mimetype": "text/x-python",
   "name": "python",
   "nbconvert_exporter": "python",
   "pygments_lexer": "ipython3",
   "version": "3.8.7"
  }
 },
 "nbformat": 4,
 "nbformat_minor": 4
}
